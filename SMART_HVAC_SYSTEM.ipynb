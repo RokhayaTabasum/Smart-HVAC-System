{
  "cells": [
    {
      "cell_type": "code",
      "execution_count": 3,
      "metadata": {
        "colab": {
          "base_uri": "https://localhost:8080/"
        },
        "id": "zKpx0Ip21gXT",
        "outputId": "9e0092e4-256d-48df-d61a-b3c7f838a8bc"
      },
      "outputs": [
        {
          "output_type": "stream",
          "name": "stdout",
          "text": [
            "Enter the following sensor values:\n",
            "Temperature (°C): 45\n",
            "Humidity (%): 23\n",
            "Light intensity (lux): 55\n",
            "\n",
            ">>> HVAC should be: ON\n"
          ]
        }
      ],
      "source": [
        "import pandas as pd\n",
        "from sklearn.model_selection import train_test_split\n",
        "from sklearn.ensemble import RandomForestClassifier\n",
        "# 1. Load and prepare dataset\n",
        "df = pd.read_csv(\"/content/Appliances Energy Prediction.csv\")\n",
        "df = df[['T1', 'RH_1', 'lights', 'Appliances']]\n",
        "df.columns = ['Temperature', 'Humidity', 'Lights', 'EnergyUse']\n",
        "df['HVAC_On'] = df['EnergyUse'].apply(lambda x: 1 if x > 100 else 0)\n",
        "\n",
        "X = df[['Temperature', 'Humidity', 'Lights']]\n",
        "y = df['HVAC_On']\n",
        "\n",
        "# 2. Train/test split and model training\n",
        "X_train, X_test, y_train, y_test = train_test_split(X, y, test_size=0.2, random_state=42)\n",
        "model = RandomForestClassifier(n_estimators=100, random_state=42)\n",
        "model.fit(X_train, y_train)\n",
        "\n",
        "# 3. Now, take input from user and predict HVAC status\n",
        "def hvac_predict():\n",
        "    print(\"Enter the following sensor values:\")\n",
        "    temp = float(input(\"Temperature (°C): \"))\n",
        "    humidity = float(input(\"Humidity (%): \"))\n",
        "    lights = float(input(\"Light intensity (lux): \"))\n",
        "    sample = pd.DataFrame({'Temperature':[temp], 'Humidity':[humidity], 'Lights':[lights]})\n",
        "    prediction = model.predict(sample)\n",
        "\n",
        "    if prediction[0] == 1:\n",
        "        print(\"\\n>>> HVAC should be: ON\")\n",
        "    else:\n",
        "        print(\"\\n>>> HVAC should be: OFF\")\n",
        "\n",
        "# 4. Run prediction interactively\n",
        "if __name__ == \"__main__\":\n",
        "    hvac_predict()"
      ]
    },
    {
      "cell_type": "code",
      "execution_count": null,
      "metadata": {
        "colab": {
          "background_save": true
        },
        "id": "-n6H__Q5a4H9",
        "outputId": "e2a38d79-80a9-4436-a4bd-dde471342dfd"
      },
      "outputs": [
        {
          "name": "stdout",
          "output_type": "stream",
          "text": [
            "Best accuracy close to 90%: 80.82% with params {'n_estimators': 400, 'max_depth': 15}\n"
          ]
        }
      ],
      "source": [
        "from sklearn.metrics import accuracy_score\n",
        "\n",
        "best_acc = 0\n",
        "best_params = {}\n",
        "\n",
        "for n_estimators in [100, 200, 300, 400, 500]:\n",
        "    for max_depth in [5, 10, 15, 20, None]:\n",
        "        model = RandomForestClassifier(n_estimators=n_estimators, max_depth=max_depth, random_state=42)\n",
        "        model.fit(X_train, y_train)\n",
        "        y_pred = model.predict(X_test)\n",
        "        acc = accuracy_score(y_test, y_pred)\n",
        "        if abs(acc - 0.90) < abs(best_acc - 0.90):\n",
        "            best_acc = acc\n",
        "            best_params = {'n_estimators': n_estimators, 'max_depth': max_depth}\n",
        "\n",
        "print(f\"Best accuracy close to 90%: {best_acc*100:.2f}% with params {best_params}\")\n"
      ]
    }
  ],
  "metadata": {
    "colab": {
      "provenance": []
    },
    "kernelspec": {
      "display_name": "Python 3",
      "name": "python3"
    },
    "language_info": {
      "name": "python"
    }
  },
  "nbformat": 4,
  "nbformat_minor": 0
}